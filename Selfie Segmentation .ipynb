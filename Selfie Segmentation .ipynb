{
 "cells": [
  {
   "cell_type": "markdown",
   "metadata": {},
   "source": [
    "# 1. Import and Install Dependencies"
   ]
  },
  {
   "cell_type": "code",
   "execution_count": null,
   "metadata": {},
   "outputs": [],
   "source": [
    "import cv2\n",
    "import mediapipe as mp\n",
    "import numpy as np"
   ]
  },
  {
   "cell_type": "markdown",
   "metadata": {},
   "source": [
    "## 2.  Real Time "
   ]
  },
  {
   "cell_type": "code",
   "execution_count": null,
   "metadata": {},
   "outputs": [],
   "source": [
    "mp_selfie = mp.solutions.selfie_segmentation\n",
    "\n",
    "cap = cv2.VideoCapture(0)\n",
    "\n",
    "# create with statement for model \n",
    "with mp_selfie.SelfieSegmentation(model_selection=0) as model: \n",
    "    while cap.isOpened():\n",
    "        ret, frame = cap.read()\n",
    "        \n",
    "        # apply segmentation  \n",
    "        res = model.process(frame)\n",
    "        mask = np.stack((res.segmentation_mask,)*3, axis=-1) > 0.8 \n",
    "        \n",
    "        #if i want to use blur as a background\n",
    "        segmented_image = np.where(mask, frame, cv2.blur(frame, (40,40)))  \n",
    "        \n",
    "        \n",
    "        #if i want to use background colour (not blur)\n",
    "        background = np.zeros(frame.shape, np.uint8)\n",
    "        background[:] = (255,0,0)   #colour\n",
    "        \n",
    "        #if i want to use image as a background\n",
    "        path = '/the path of the background picture'\n",
    "        img = cv2.imread(path)\n",
    "        img= cv2.resize(img, (640,480))\n",
    "        image_np = np.array(img)\n",
    "        background[:]=image_np\n",
    "             \n",
    "        segmented_image = np.where(mask, frame, background)\n",
    "    \n",
    "        cv2.imshow('Background', segmented_image)\n",
    "\n",
    "        if cv2.waitKey(10) & 0xFF == ord('q'):\n",
    "            break\n",
    "            \n",
    "cap.release()\n",
    "cv2.destroyAllWindows()"
   ]
  },
  {
   "cell_type": "code",
   "execution_count": null,
   "metadata": {},
   "outputs": [],
   "source": []
  }
 ],
 "metadata": {
  "kernelspec": {
   "display_name": "Python 3",
   "language": "python",
   "name": "python3"
  },
  "language_info": {
   "codemirror_mode": {
    "name": "ipython",
    "version": 3
   },
   "file_extension": ".py",
   "mimetype": "text/x-python",
   "name": "python",
   "nbconvert_exporter": "python",
   "pygments_lexer": "ipython3",
   "version": "3.7.10"
  }
 },
 "nbformat": 4,
 "nbformat_minor": 2
}
